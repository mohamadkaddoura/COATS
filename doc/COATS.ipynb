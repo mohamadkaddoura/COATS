{
 "cells": [
  {
   "cell_type": "markdown",
   "metadata": {},
   "source": [
    "# CO2 Abatement Tied to Surface engineering (COATS)"
   ]
  },
  {
   "cell_type": "markdown",
   "metadata": {},
   "source": [
    "COATS soft links efficiency improvements due to surface engineering applied to the energy sector with integrated assessmend methods to estimate the environmental benefits achieved. For more detailed information about the methodology, you can refer to the paper:\n",
    "(submitted)"
   ]
  },
  {
   "cell_type": "markdown",
   "metadata": {},
   "source": [
    "### Input data"
   ]
  },
  {
   "cell_type": "markdown",
   "metadata": {},
   "source": [
    "The input data is available in the excel file (Model Input Data.xlsx) in the doc folder."
   ]
  },
  {
   "cell_type": "markdown",
   "metadata": {},
   "source": [
    "### COATS class"
   ]
  },
  {
   "cell_type": "markdown",
   "metadata": {},
   "source": [
    "The COATS class (Coats.py) is available in the src folder."
   ]
  },
  {
   "cell_type": "markdown",
   "metadata": {},
   "source": [
    "### Energy outputs"
   ]
  },
  {
   "cell_type": "markdown",
   "metadata": {},
   "source": [
    "The scenarios are taken from SSP database by IIASA (https://tntcat.iiasa.ac.at/SspDb/dsd?Action=htmlpage&page=40). The excel sheet retrieved contains: (1) the 5 Regions, (2) the MESSAGE-GLOBIOM baseline scenarios for SSP1, SSP2 and SSP3 and the 1.9 and 2.6 variant of it for SSP1 and SSP2 and (3) the electricity output (Energy/Secondary energy) of all technologies. The first step is to read the output excel file and do reverse engineering to predict the age-cohort of the system."
   ]
  },
  {
   "cell_type": "markdown",
   "metadata": {},
   "source": [
    "### Environmental impacts"
   ]
  },
  {
   "cell_type": "markdown",
   "metadata": {},
   "source": [
    "The environmental impacts are calculated by multiplying the output of each technology by its impact factor retrieved from ecoinvent. This also takes into account the reduced impact due to surface engineering."
   ]
  },
  {
   "cell_type": "code",
   "execution_count": null,
   "metadata": {},
   "outputs": [],
   "source": [
    "#Imports\n",
    "import pandas as pd\n",
    "import numpy as np\n",
    "import sys\n",
    "from scipy.stats import norm\n",
    "from scipy import linalg"
   ]
  },
  {
   "cell_type": "code",
   "execution_count": null,
   "metadata": {},
   "outputs": [],
   "source": [
    "#Create and solve the model\n",
    "coats_baseline = Coats.from_template('Model Input Data.xlsx')\n",
    "coats_baseline.solve()"
   ]
  },
  {
   "cell_type": "code",
   "execution_count": null,
   "metadata": {},
   "outputs": [],
   "source": [
    "#Data for first graph:\n",
    "coats_baseline.energy_results"
   ]
  },
  {
   "cell_type": "code",
   "execution_count": null,
   "metadata": {},
   "outputs": [],
   "source": [
    "#Data for second graph:\n",
    "coats_baseline.d_elec_results_total"
   ]
  },
  {
   "cell_type": "code",
   "execution_count": null,
   "metadata": {},
   "outputs": [],
   "source": [
    "#Data for third graph:\n",
    "#From this I can get the benefits of the SE (with slight adjustment)\n",
    "coats_baseline.benefits_from_se"
   ]
  },
  {
   "cell_type": "code",
   "execution_count": null,
   "metadata": {},
   "outputs": [],
   "source": [
    "#Data for third graph:\n",
    "#get the impact from coating\n",
    "coats_baseline.burdens_from_se"
   ]
  },
  {
   "cell_type": "code",
   "execution_count": null,
   "metadata": {},
   "outputs": [],
   "source": [
    "#sensitivity initialization and solving:\n",
    "sensitivity_coal_low = Coats.from_template('iamc_db.xlsx')\n",
    "sensitivity_coal_low.elec_char.at['Secondary Energy|Electricity|Coal|w/ CCS','EffieciencyImprovement'] = 0.1\n",
    "sensitivity_coal_low.elec_char.at['Secondary Energy|Electricity|Coal|w/o CCS','EffieciencyImprovement'] = 0.1\n",
    "sensitivity_coal_low.solve()\n",
    "\n",
    "sensitivity_coal_high = Coats.from_template('iamc_db.xlsx')\n",
    "sensitivity_coal_high.elec_char.at['Secondary Energy|Electricity|Coal|w/ CCS','EffieciencyImprovement'] = 0.3\n",
    "sensitivity_coal_high.elec_char.at['Secondary Energy|Electricity|Coal|w/o CCS','EffieciencyImprovement'] = 0.3\n",
    "sensitivity_coal_high.solve()\n",
    "\n",
    "sensitivity_gas_low = Coats.from_template('iamc_db.xlsx')\n",
    "sensitivity_gas_low.elec_char.at['Secondary Energy|Electricity|Gas|w/ CCS','EffieciencyImprovement'] = 0.015\n",
    "sensitivity_gas_low.elec_char.at['Secondary Energy|Electricity|Gas|w/o CCS','EffieciencyImprovement'] = 0.015\n",
    "sensitivity_gas_low.solve()\n",
    "\n",
    "sensitivity_gas_high = Coats.from_template('iamc_db.xlsx')\n",
    "sensitivity_gas_high.elec_char.at['Secondary Energy|Electricity|Gas|w/ CCS','EffieciencyImprovement'] = 0.04\n",
    "sensitivity_gas_high.elec_char.at['Secondary Energy|Electricity|Gas|w/o CCS','EffieciencyImprovement'] = 0.04\n",
    "sensitivity_gas_high.solve()\n",
    "\n",
    "sensitivity_solar_low = Coats.from_template('iamc_db.xlsx')\n",
    "sensitivity_solar_low.elec_char.at['Secondary Energy|Electricity|Solar','EffieciencyImprovement'] = 0.05\n",
    "sensitivity_solar_low.solve()\n",
    "\n",
    "sensitivity_solar_high = Coats.from_template('iamc_db.xlsx')\n",
    "sensitivity_solar_high.elec_char.at['Secondary Energy|Electricity|Solar','EffieciencyImprovement'] = 0.15\n",
    "sensitivity_solar_high.solve()\n",
    "\n",
    "sensitivity_wind_low = Coats.from_template('iamc_db.xlsx')\n",
    "sensitivity_wind_low.elec_char.at['Secondary Energy|Electricity|Wind','EffieciencyImprovement'] = 0.0005\n",
    "sensitivity_wind_low.solve()\n",
    "\n",
    "sensitivity_wind_high = Coats.from_template('iamc_db.xlsx')\n",
    "sensitivity_wind_high.elec_char.at['Secondary Energy|Electricity|Wind','EffieciencyImprovement'] = 0.5\n",
    "sensitivity_wind_high.solve()"
   ]
  },
  {
   "cell_type": "code",
   "execution_count": null,
   "metadata": {},
   "outputs": [],
   "source": [
    "#sensitivity coal low results (benefits of the SE)\n",
    "sensitivity_coal_low.benefits_from_se\n",
    "#sensitivity coal low results (impact from coating)\n",
    "sensitivity_coal_low.burdens_from_se_tech\n",
    "#sensitivity coal high results (benefits of the SE)\n",
    "sensitivity_coal_high.benefits_from_se\n",
    "#sensitivity coal high results (impact from coating)\n",
    "sensitivity_coal_high.burdens_from_se_tech\n",
    "#sensitivity gas low results (benefits of the SE)\n",
    "sensitivity_gas_low.benefits_from_se\n",
    "#sensitivity gas low results (impact from coating)\n",
    "sensitivity_gas_low.burdens_from_se_tech\n",
    "#sensitivity gas high results (benefits of the SE)\n",
    "sensitivity_gas_high.benefits_from_se\n",
    "#sensitivity gas high results (impact from coating)\n",
    "sensitivity_gas_high.burdens_from_se_tech\n",
    "#sensitivity solar low results (benefits of the SE)\n",
    "sensitivity_solar_low.benefits_from_se\n",
    "#sensitivity solar low results (impact from coating)\n",
    "sensitivity_solar_low.burdens_from_se_tech\n",
    "#sensitivity solar high results (benefits of the SE)\n",
    "sensitivity_solar_high.benefits_from_se\n",
    "#sensitivity solar high results (impact from coating)\n",
    "sensitivity_solar_high.burdens_from_se_tech\n",
    "#sensitivity wind low results (benefits of the SE)\n",
    "sensitivity_wind_low.benefits_from_se\n",
    "#sensitivity wind low results (impact from coating)\n",
    "sensitivity_wind_low.burdens_from_se_tech\n",
    "#sensitivity wind high results (benefits of the SE)\n",
    "sensitivity_wind_high.benefits_from_se\n",
    "#sensitivity wind high results (impact from coating)\n",
    "sensitivity_wind_high.burdens_from_se_tech"
   ]
  },
  {
   "cell_type": "code",
   "execution_count": null,
   "metadata": {
    "scrolled": true
   },
   "outputs": [],
   "source": [
    "#sensitivity 1%\n",
    "sensitivity_SSP1 = Coats.from_template('iamc_db.xlsx')\n",
    "sensitivity_SSP1.adop_rates.at['old','SSP1-Baseline'] = 0.49\n",
    "sensitivity_SSP1.adop_rates.at['new','SSP1-Baseline'] = 0.99\n",
    "sensitivity_SSP1.solve()\n",
    "\n",
    "sensitivity_SSP2 = Coats.from_template('iamc_db.xlsx')\n",
    "sensitivity_SSP2.adop_rates.at['new','SSP2-Baseline'] = 0.81\n",
    "sensitivity_SSP2.solve()\n",
    "\n",
    "sensitivity_SSP3 = Coats.from_template('iamc_db.xlsx')\n",
    "sensitivity_SSP3.adop_rates.at['new','SSP3-Baseline'] = 0.11\n",
    "sensitivity_SSP3.solve()\n",
    "\n",
    "#sensitivity 1% results\n",
    "sensitivity_SSP1.d_elec_results_total.loc['CC']\n",
    "sensitivity_SSP2.d_elec_results_total.loc['CC']\n",
    "sensitivity_SSP3.d_elec_results_total.loc['CC']"
   ]
  }
 ],
 "metadata": {
  "kernelspec": {
   "display_name": "Python 3",
   "language": "python",
   "name": "python3"
  },
  "language_info": {
   "codemirror_mode": {
    "name": "ipython",
    "version": 3
   },
   "file_extension": ".py",
   "mimetype": "text/x-python",
   "name": "python",
   "nbconvert_exporter": "python",
   "pygments_lexer": "ipython3",
   "version": "3.7.4"
  }
 },
 "nbformat": 4,
 "nbformat_minor": 2
}
